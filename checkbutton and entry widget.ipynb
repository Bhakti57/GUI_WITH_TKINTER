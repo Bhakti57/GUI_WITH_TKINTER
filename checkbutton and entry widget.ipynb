{
 "cells": [
  {
   "cell_type": "code",
   "execution_count": 8,
   "id": "a58d5e8c",
   "metadata": {},
   "outputs": [],
   "source": [
    "from tkinter import *\n",
    "root=Tk()\n",
    "def getvals():\n",
    "    print(\"Submitting form\")\n",
    "    \n",
    "    print(f\"{namevalue.get(), phonevalue.get(), gendervalue.get(), emergencyvalue.get(), paymentmodevalue.get(), foodservicevalue.get()}\")\n",
    "    \n",
    "    with open(\"records.txt\",\"a\") as f:\n",
    "        f.write(f\"{namevalue.get(), phonevalue.get(), gendervalue.get(), emergencyvalue.get(), paymentmodevalue.get(), foodservicevalue.get()}\\n\")\n",
    "        \n",
    "root.geometry(\"644x344\")\n",
    "\n",
    "Label(root,text=\"welcome to Ganesh Travels!!\", font=\"comicsansms 13 bold\", pady=15).grid(row=0,column=3)\n",
    "\n",
    "name=Label(root,text=\"Name\")\n",
    "phone=Label(root,text=\"Phone\")\n",
    "gender=Label(root,text=\"Gender\")\n",
    "emergency=Label(root,text=\"Emergency Contact\")\n",
    "paymentmode=Label(root,text=\"Payment Mode\")\n",
    "\n",
    "name.grid(row=1, column=2)\n",
    "phone.grid(row=2, column=2)\n",
    "gender.grid(row=3, column=2)\n",
    "emergency.grid(row=4, column=2)\n",
    "paymentmode.grid(row=5, column=2)\n",
    "\n",
    "namevalue= StringVar()\n",
    "phonevalue= StringVar()\n",
    "gendervalue= StringVar()\n",
    "emergencyvalue= StringVar()\n",
    "paymentmodevalue= StringVar()\n",
    "foodservicevalue=IntVar()\n",
    "\n",
    "nameentry=Entry(root,textvariable=namevalue)\n",
    "phoneentry=Entry(root,textvariable=phonevalue)\n",
    "genderentry=Entry(root,textvariable=gendervalue)\n",
    "emergencyentry=Entry(root,textvariable=emergencyvalue)\n",
    "paymentmodeentry=Entry(root,textvariable=paymentmodevalue)\n",
    "\n",
    "nameentry.grid(row=1,column=3)\n",
    "phoneentry.grid(row=2,column=3)\n",
    "genderentry.grid(row=3,column=3)\n",
    "emergencyentry.grid(row=4,column=3)\n",
    "paymentmodeentry.grid(row=5,column=3)\n",
    "\n",
    "foodservice= Checkbutton(text=\"Want to prebook your meals?\", variable=foodservicevalue)\n",
    "\n",
    "foodservice.grid(row=6,column=3)\n",
    "\n",
    "Button(text=\"Submit to Ganesh Travel\", command=getvals).grid(row=7,column=3)\n",
    "root.mainloop()\n"
   ]
  },
  {
   "cell_type": "code",
   "execution_count": null,
   "id": "86d9632c",
   "metadata": {},
   "outputs": [],
   "source": []
  }
 ],
 "metadata": {
  "kernelspec": {
   "display_name": "Python 3 (ipykernel)",
   "language": "python",
   "name": "python3"
  },
  "language_info": {
   "codemirror_mode": {
    "name": "ipython",
    "version": 3
   },
   "file_extension": ".py",
   "mimetype": "text/x-python",
   "name": "python",
   "nbconvert_exporter": "python",
   "pygments_lexer": "ipython3",
   "version": "3.9.7"
  }
 },
 "nbformat": 4,
 "nbformat_minor": 5
}
