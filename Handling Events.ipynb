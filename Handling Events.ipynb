{
 "cells": [
  {
   "cell_type": "code",
   "execution_count": null,
   "id": "ddeaa610",
   "metadata": {},
   "outputs": [
    {
     "name": "stdout",
     "output_type": "stream",
     "text": [
      "You clicked on the button at 53, 9\n"
     ]
    }
   ],
   "source": [
    "from tkinter import *\n",
    "\n",
    "def harry(event):\n",
    "    print(f\"You clicked on the button at {event.x}, {event.y}\")\n",
    "\n",
    "root = Tk()\n",
    "root.title(\"Events in Tkinter\")\n",
    "root.geometry(\"644x334\")\n",
    "\n",
    "widget = Button(root, text='Click me please')\n",
    "widget.pack()\n",
    "\n",
    "widget.bind('<Button-1>', harry)\n",
    "widget.bind('<Double-1>', quit)\n",
    "root.mainloop()\n"
   ]
  },
  {
   "cell_type": "code",
   "execution_count": null,
   "id": "003ef469",
   "metadata": {},
   "outputs": [],
   "source": []
  }
 ],
 "metadata": {
  "kernelspec": {
   "display_name": "Python 3 (ipykernel)",
   "language": "python",
   "name": "python3"
  },
  "language_info": {
   "codemirror_mode": {
    "name": "ipython",
    "version": 3
   },
   "file_extension": ".py",
   "mimetype": "text/x-python",
   "name": "python",
   "nbconvert_exporter": "python",
   "pygments_lexer": "ipython3",
   "version": "3.9.7"
  }
 },
 "nbformat": 4,
 "nbformat_minor": 5
}
