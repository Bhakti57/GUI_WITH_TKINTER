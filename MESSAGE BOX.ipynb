{
 "cells": [
  {
   "cell_type": "code",
   "execution_count": 3,
   "id": "c1119f6c",
   "metadata": {},
   "outputs": [
    {
     "name": "stdout",
     "output_type": "stream",
     "text": [
      "I will help you\n",
      "Rate us\n",
      "Rate us\n",
      "Retry karne pe bhi kuch nahi hoga\n",
      "Bahut badiya bhai cancel kar diya warna pitte\n"
     ]
    }
   ],
   "source": [
    "from tkinter import *\n",
    "import tkinter.messagebox as tmsg\n",
    "root = Tk()\n",
    "root.geometry(\"733x566\")\n",
    "root.title(\"Pycharm\")\n",
    "\n",
    "def myfunc():\n",
    "    print(\"Mai ek bahut hi natkhat aur shaitaan function hoon\")\n",
    "\n",
    "def help():\n",
    "    print(\"I will help you\")\n",
    "    tmsg.showinfo(\"Help\", \"Sanvee will help you with this gui\")\n",
    "\n",
    "def rate():\n",
    "    print(\"Rate us\")\n",
    "    value = tmsg.askquestion(\"Was your experience Good?\", \"You used this gui.. Was your experience Good?\")\n",
    "    if value == \"yes\":\n",
    "        msg = \"Great. Rate us on appstore please\"\n",
    "    else:\n",
    "        msg = \"Tell us what went wrong. We will call you soon\"\n",
    "    tmsg.showinfo(\"Experience\", msg)\n",
    "\n",
    "def divya():\n",
    "    ans = tmsg.askretrycancel(\"Divya se dosti kar lo\", \"Sorry divya nahi banegi aapki dost\")\n",
    "    if ans:\n",
    "        print(\"Retry karne pe bhi kuch nahi hoga\")\n",
    "\n",
    "    else:\n",
    "        print(\"Bahut badiya bhai cancel kar diya warna pitte\")\n",
    "\n",
    "\n",
    "mainmenu = Menu(root)\n",
    "\n",
    "m1 = Menu(mainmenu, tearoff=0)\n",
    "m1.add_command(label=\"New project\", command=myfunc)\n",
    "m1.add_command(label=\"Save\", command=myfunc)\n",
    "m1.add_separator()\n",
    "m1.add_command(label=\"Save As\", command=myfunc)\n",
    "m1.add_command(label=\"Print\", command=myfunc)\n",
    "root.config(menu=mainmenu)\n",
    "mainmenu.add_cascade(label=\"File\", menu=m1)\n",
    "\n",
    "m2 = Menu(mainmenu, tearoff=0)\n",
    "m2.add_command(label=\"Cut\", command=myfunc)\n",
    "m2.add_command(label=\"Copy\", command=myfunc)\n",
    "m2.add_separator()\n",
    "m2.add_command(label=\"Paste\", command=myfunc)\n",
    "m2.add_command(label=\"Find\", command=myfunc)\n",
    "root.config(menu=mainmenu)\n",
    "mainmenu.add_cascade(label=\"Edit\", menu=m2)\n",
    "\n",
    "\n",
    "m3 = Menu(mainmenu, tearoff=0)\n",
    "m3.add_command(label = \"Help\", command=help)\n",
    "m3.add_command(label = \"Rate us\", command=rate)\n",
    "m3.add_command(label = \"Befriend Divya\", command=divya)\n",
    "mainmenu.add_cascade(label=\"Help\", menu=m3)\n",
    "root.config(menu=mainmenu)\n",
    "root.mainloop()"
   ]
  },
  {
   "cell_type": "code",
   "execution_count": null,
   "id": "0bc28ad5",
   "metadata": {},
   "outputs": [],
   "source": []
  }
 ],
 "metadata": {
  "kernelspec": {
   "display_name": "Python 3 (ipykernel)",
   "language": "python",
   "name": "python3"
  },
  "language_info": {
   "codemirror_mode": {
    "name": "ipython",
    "version": 3
   },
   "file_extension": ".py",
   "mimetype": "text/x-python",
   "name": "python",
   "nbconvert_exporter": "python",
   "pygments_lexer": "ipython3",
   "version": "3.9.7"
  }
 },
 "nbformat": 4,
 "nbformat_minor": 5
}
