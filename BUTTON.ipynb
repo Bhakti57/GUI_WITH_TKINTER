{
 "cells": [
  {
   "cell_type": "code",
   "execution_count": 5,
   "id": "4fdeada6",
   "metadata": {},
   "outputs": [
    {
     "name": "stdout",
     "output_type": "stream",
     "text": [
      "Hello Tkinter button\n"
     ]
    }
   ],
   "source": [
    "from tkinter import *\n",
    "root=Tk()\n",
    "root.geometry(\"655x333\")\n",
    "def hello():\n",
    "    print(\"Hello Tkinter button\")\n",
    "    \n",
    "f1=Frame(root, bg=\"gray\", borderwidth=6, relief=RAISED)\n",
    "f1.pack()\n",
    "b1=Button(f1, fg=\"red\", text=\"Hello\", command=hello)\n",
    "b1.pack()\n",
    "root.mainloop()\n"
   ]
  },
  {
   "cell_type": "code",
   "execution_count": 1,
   "id": "78921cdf",
   "metadata": {},
   "outputs": [],
   "source": [
    "from tkinter import *\n",
    "root=Tk()\n",
    "root.geometry(\"655x333\")\n",
    "def hello():\n",
    "    print(\"Hello guys!!!!\")\n",
    "def name():\n",
    "    print(\"My name is Parrot.\",end=\" \")\n",
    "def color():\n",
    "    print(\"I am green in colour.\",end=\" \")\n",
    "def food():\n",
    "    print(\"I like guava and chillies to eat.\",end=\" \")\n",
    "    \n",
    "f1=Frame(root, bg=\"gray\", borderwidth=6, relief=RAISED)\n",
    "f1.pack()\n",
    "b1=Button(f1, fg=\"red\", text=\"Hello\", command=hello)\n",
    "b1.pack()\n",
    "b2=Button(f1, fg=\"purple\", text=\"name\", command=name)\n",
    "b2.pack()\n",
    "b3=Button(f1, fg=\"green\", text=\"colour\", command=color)\n",
    "b3.pack()\n",
    "b4=Button(f1, fg=\"blue\", text=\"food\", command=food)\n",
    "b4.pack()\n",
    "root.mainloop()"
   ]
  },
  {
   "cell_type": "code",
   "execution_count": null,
   "id": "6ba97762",
   "metadata": {},
   "outputs": [],
   "source": []
  }
 ],
 "metadata": {
  "kernelspec": {
   "display_name": "Python 3 (ipykernel)",
   "language": "python",
   "name": "python3"
  },
  "language_info": {
   "codemirror_mode": {
    "name": "ipython",
    "version": 3
   },
   "file_extension": ".py",
   "mimetype": "text/x-python",
   "name": "python",
   "nbconvert_exporter": "python",
   "pygments_lexer": "ipython3",
   "version": "3.9.7"
  }
 },
 "nbformat": 4,
 "nbformat_minor": 5
}
