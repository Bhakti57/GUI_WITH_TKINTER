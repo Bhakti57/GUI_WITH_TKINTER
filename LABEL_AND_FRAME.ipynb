{
 "cells": [
  {
   "cell_type": "code",
   "execution_count": 1,
   "id": "b800c6c4",
   "metadata": {},
   "outputs": [],
   "source": [
    "from tkinter import * \n",
    "root=Tk()\n",
    "root.geometry(\"665x453\")\n",
    "root.minsize(350,200)\n",
    "root.maxsize(1300,964)\n",
    "f1=Frame(root, bg=\"blue\", borderwidth=24, relief=SUNKEN)\n",
    "f1.pack(side=TOP, anchor= \"nw\")\n",
    "bhakti=Label(f1, text=\"Bhakti\", font=\"Helvetica 20 bold\", fg=\"red\",  pady=24 , padx=24)\n",
    "bhakti.pack()\n",
    "f2=Frame(root, bg=\"blue\", borderwidth=24, relief=SUNKEN)\n",
    "f2.pack(side=TOP, anchor= \"se\")\n",
    "rahul= Label(f2, text=\"Rahul\",font=\"Helvetica 20 bold\", fg=\"gray\",  padx=24, pady=24)\n",
    "rahul.pack()\n",
    "f3=Frame(root, bg=\"blue\", borderwidth=24, relief=SUNKEN)\n",
    "f3.pack(side=BOTTOM, anchor= \"nw\")\n",
    "prachi= Label(f3, text=\"Prachi\",font=\"Helvetica 20 bold\", fg=\"gray\",  pady=24, padx=24)\n",
    "prachi.pack()\n",
    "f4=Frame(root, bg=\"blue\", borderwidth=24, relief=SUNKEN)\n",
    "f4.pack (side=BOTTOM,anchor= \"se\")\n",
    "prakash = Label(f4, text=\"Prakash\",font=\"Helvetica 20 bold\", fg=\"gray\",  padx=24, pady=24)\n",
    "prakash.pack()\n",
    "root.mainloop()"
   ]
  },
  {
   "cell_type": "code",
   "execution_count": null,
   "id": "73e73d59",
   "metadata": {},
   "outputs": [],
   "source": []
  }
 ],
 "metadata": {
  "kernelspec": {
   "display_name": "Python 3 (ipykernel)",
   "language": "python",
   "name": "python3"
  },
  "language_info": {
   "codemirror_mode": {
    "name": "ipython",
    "version": 3
   },
   "file_extension": ".py",
   "mimetype": "text/x-python",
   "name": "python",
   "nbconvert_exporter": "python",
   "pygments_lexer": "ipython3",
   "version": "3.9.7"
  }
 },
 "nbformat": 4,
 "nbformat_minor": 5
}
